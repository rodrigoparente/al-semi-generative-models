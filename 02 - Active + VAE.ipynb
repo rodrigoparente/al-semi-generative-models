{
 "cells": [
  {
   "cell_type": "markdown",
   "id": "b824178f",
   "metadata": {},
   "source": [
    "# Imports"
   ]
  },
  {
   "cell_type": "code",
   "execution_count": 1,
   "id": "8160de0b",
   "metadata": {},
   "outputs": [],
   "source": [
    "# filtering messages to error\n",
    "import warnings\n",
    "import os\n",
    "\n",
    "warnings.filterwarnings('ignore')\n",
    "os.environ['TF_CPP_MIN_LOG_LEVEL'] = '3'"
   ]
  },
  {
   "cell_type": "code",
   "execution_count": 2,
   "id": "8b3ac3dd",
   "metadata": {},
   "outputs": [],
   "source": [
    "# python imports\n",
    "from timeit import default_timer as timer\n",
    "from datetime import timedelta\n",
    "\n",
    "# third-party imports\n",
    "import numpy as np\n",
    "\n",
    "from sklearn.ensemble import GradientBoostingClassifier\n",
    "from sklearn.preprocessing import StandardScaler\n",
    "from sklearn.metrics import ConfusionMatrixDisplay\n",
    "\n",
    "import tensorflow as tf\n",
    "from tensorflow import keras\n",
    "from tensorflow.keras import layers\n",
    "\n",
    "from matplotlib import pyplot as plt\n",
    "%matplotlib inline\n",
    "\n",
    "# project imports\n",
    "from utils.al import active_learn_loop\n",
    "from utils.data import load_data\n",
    "from utils.data import initial_query_test_split"
   ]
  },
  {
   "cell_type": "markdown",
   "id": "59c9d034",
   "metadata": {},
   "source": [
    "# [VAE](https://en.wikipedia.org/wiki/Variational_autoencoder)"
   ]
  },
  {
   "cell_type": "code",
   "execution_count": 3,
   "id": "9530fffa",
   "metadata": {},
   "outputs": [],
   "source": [
    "def create_autoencoder(X_train, input_dim, latent_dim):\n",
    "    class Sampling(layers.Layer):\n",
    "        \"\"\"Uses (z_mean, z_log_var) to sample z, the vector encoding a digit.\"\"\"\n",
    "\n",
    "        def call(self, inputs):\n",
    "            z_mean, z_log_var = inputs\n",
    "            batch = tf.shape(z_mean)[0]\n",
    "            dim = tf.shape(z_mean)[1]\n",
    "            epsilon = tf.keras.backend.random_normal(shape=(batch, dim))\n",
    "            return z_mean + tf.exp(0.5 * z_log_var) * epsilon\n",
    "    \n",
    "    class VAE(keras.Model):\n",
    "        def __init__(self, encoder, decoder, **kwargs):\n",
    "            super(VAE, self).__init__(**kwargs)\n",
    "            self.encoder = encoder\n",
    "            self.decoder = decoder\n",
    "\n",
    "        def train_step(self, data):\n",
    "            if isinstance(data, tuple):\n",
    "                data = data[0]\n",
    "\n",
    "            with tf.GradientTape() as tape:\n",
    "                z_mean, z_log_var, z = encoder(data)\n",
    "                reconstruction = decoder(z)\n",
    "                reconstruction_loss = tf.reduce_mean(\n",
    "                    keras.losses.mean_squared_error(data, reconstruction))\n",
    "\n",
    "                reconstruction_loss *= input_dim\n",
    "                kl_loss = 1 + z_log_var - tf.square(z_mean) - tf.exp(z_log_var)\n",
    "                kl_loss = tf.reduce_mean(kl_loss)\n",
    "                kl_loss *= -0.5\n",
    "                total_loss = reconstruction_loss + kl_loss\n",
    "\n",
    "            grads = tape.gradient(total_loss, self.trainable_weights)\n",
    "            self.optimizer.apply_gradients(zip(grads, self.trainable_weights))\n",
    "\n",
    "            return {\"loss\": total_loss,\n",
    "                    \"reconstruction_loss\": reconstruction_loss,\n",
    "                    \"kl_loss\": kl_loss}\n",
    "    \n",
    "    # encoder \n",
    "    encoder_inputs = keras.Input(shape=input_dim)\n",
    "    x = layers.Dense(64, activation=\"relu\")(encoder_inputs)\n",
    "    x = layers.Dense(64, activation=\"relu\")(x)\n",
    "    z_mean = layers.Dense(latent_dim, name=\"z_mean\")(x)\n",
    "    z_log_var = layers.Dense(latent_dim, name=\"z_log_var\")(x)\n",
    "    z = Sampling()([z_mean, z_log_var])\n",
    "    \n",
    "    encoder = keras.Model(encoder_inputs, [z_mean, z_log_var, z], name=\"encoder\") \n",
    "    \n",
    "    # decoder\n",
    "    latent_inputs = keras.Input(shape=latent_dim)\n",
    "    x = layers.Dense(64, activation=\"relu\")(latent_inputs)\n",
    "    x = layers.Dense(64, activation=\"relu\")(x)\n",
    "    decoder_outputs = layers.Dense(input_dim, activation=\"linear\", name=\"decoder_output\")(x)\n",
    "    \n",
    "    decoder = keras.Model(latent_inputs, decoder_outputs, name=\"decoder\")\n",
    "           \n",
    "    start = timer()\n",
    "    \n",
    "    # running vae\n",
    "    vae = VAE(encoder, decoder)\n",
    "    vae.compile(optimizer=keras.optimizers.Adam())\n",
    "    vae.fit(X_train, epochs=500, batch_size=64, verbose=False)\n",
    "    \n",
    "    elapsed = timer() - start\n",
    "    \n",
    "    return encoder, elapsed"
   ]
  },
  {
   "cell_type": "markdown",
   "id": "675ef286",
   "metadata": {},
   "source": [
    "# Loading Data"
   ]
  },
  {
   "cell_type": "code",
   "execution_count": 4,
   "id": "a7e4f1c1",
   "metadata": {},
   "outputs": [],
   "source": [
    "X_unlabeled, _ = load_data('datasets/vulns-unlabeled.csv')\n",
    "X_labeled, y_labeled = load_data('datasets/vulns-labeled.csv')"
   ]
  },
  {
   "cell_type": "markdown",
   "id": "06e7dd55",
   "metadata": {},
   "source": [
    "# Pipeline"
   ]
  },
  {
   "cell_type": "code",
   "execution_count": 5,
   "id": "f61018c0",
   "metadata": {},
   "outputs": [],
   "source": [
    "def run_pipeline(active_model, super_model, \n",
    "                 X_unlabeled, X_labeled, y_labeled, \n",
    "                 initial_size, test_size, \n",
    "                 n_queries, n_interactions, \n",
    "                 scale_active_data, scale_super_data, \n",
    "                 encode_beggining, encode_ending, verbose):\n",
    "    \n",
    "    elapsed_list = list()\n",
    "    acc_active_list = list()\n",
    "    acc_super_list = list()\n",
    "\n",
    "    print(f'\\n# {str(active_model)} + {str(super_model)}\\n')\n",
    "\n",
    "    for i in range(n_interactions):\n",
    "\n",
    "        # Splitting data\n",
    "        # --------------\n",
    "\n",
    "        X_initial, X_query, X_test, y_initial, y_query, y_test =\\\n",
    "            initial_query_test_split(X_labeled, y_labeled, initial_size, test_size)\n",
    "        \n",
    "        X_all = np.append(np.append(X_initial, X_query, axis=0), X_unlabeled, axis=0)\n",
    "        \n",
    "        # Encoding data with VAE\n",
    "        # ----------------------      \n",
    "        \n",
    "        elapsed_vae = 0\n",
    "        if encode_beggining:\n",
    "            scaler = StandardScaler().fit(X_all)\n",
    "            \n",
    "            X_all = scaler.transform(X_all)\n",
    "            X_initial = scaler.transform(X_initial)\n",
    "            X_query = scaler.transform(X_query)\n",
    "            X_test = scaler.transform(X_test)\n",
    "            \n",
    "            encoder, elapsed_vae = create_autoencoder(X_all, input_dim=X_all.shape[1], latent_dim=10)\n",
    "            \n",
    "            X_all = encoder(X_all)[0].numpy()\n",
    "            X_initial = encoder(X_initial)[0].numpy()\n",
    "            X_query = encoder(X_query)[0].numpy()\n",
    "            X_test = encoder(X_test)[0].numpy() \n",
    "        \n",
    "        # Active learning\n",
    "        # ---------------\n",
    "        \n",
    "        # scaling data if necessary\n",
    "        scaler = None\n",
    "        if scale_active_data:\n",
    "            scaler = StandardScaler().fit(X_query)\n",
    "        \n",
    "            X_initial = scaler.transform(X_initial)\n",
    "            X_query = scaler.transform(X_query)\n",
    "            X_test = scaler.transform(X_test)\n",
    "        \n",
    "        # active learner loop\n",
    "        learner_active, elapsed_active, X_train, y_train =\\\n",
    "            active_learn_loop(active_model, X_initial, y_initial, X_query, y_query, n_queries)\n",
    "        \n",
    "        # calculate score\n",
    "        acc_active = learner_active.score(X_test, y_test)\n",
    "        acc_active_list.append(acc_active)\n",
    "        \n",
    "        # denormalize data if necessary\n",
    "        if scale_active_data:\n",
    "            X_train = scaler.inverse_transform(X_train)\n",
    "            X_test = scaler.inverse_transform(X_test)\n",
    "            \n",
    "                \n",
    "        # Encoding data with VAE\n",
    "        # ----------------------      \n",
    "        \n",
    "        elapsed_vae = 0\n",
    "        if encode_ending:\n",
    "            scaler = StandardScaler().fit(X_all)\n",
    "            \n",
    "            X_all = scaler.transform(X_all)\n",
    "            X_train = scaler.transform(X_train)\n",
    "            X_test = scaler.transform(X_test)\n",
    "            \n",
    "            encoder, elapsed_vae = create_autoencoder(X_all, input_dim=X_all.shape[1], latent_dim=10)\n",
    "            \n",
    "            X_train = encoder(X_train)[0].numpy()\n",
    "            X_test = encoder(X_test)[0].numpy()\n",
    "\n",
    "        # Supervised learning\n",
    "        # ------------------------\n",
    "        \n",
    "        # scalling data if necessary\n",
    "        if scale_super_data:\n",
    "            scaler = StandardScaler().fit(X_train)\n",
    "            \n",
    "            X_train = scaler.transform(X_train)\n",
    "            X_test = scaler.transform(X_test)\n",
    "        \n",
    "        start = timer()\n",
    "        \n",
    "        super_model.fit(X_train, y_train)\n",
    "        \n",
    "        elapsed_super = timer() - start\n",
    "        \n",
    "        acc_super = super_model.score(X_test, y_test)\n",
    "        acc_super_list.append(acc_super)\n",
    "        \n",
    "        # Calculating elapsed time\n",
    "        # ------------------------\n",
    "        \n",
    "        elapsed = elapsed_active + elapsed_vae + elapsed_super\n",
    "        elapsed_list.append(elapsed)\n",
    "\n",
    "        if i % 5 == 0 and verbose:\n",
    "            print(f'Progress {round((i/n_interactions) * 100)}%')\n",
    "\n",
    "    # Printing statistics\n",
    "    # -------------------\n",
    "    \n",
    "    print(f'\\n(len(X_initial), len(X_train), len(X_test)) = {(len(X_initial), len(X_train), len(X_test))}\\n')\n",
    "    \n",
    "    if encode_beggining:\n",
    "        print('(data encoded before active learning)\\n')\n",
    "    elif encode_ending:\n",
    "        print('(data encoded after active learning)\\n')\n",
    "    \n",
    "    print(' - Avg. accuracy:')\n",
    "    print(f'   - Active learning: {np.mean(acc_active_list):.2f} (max={max(acc_active_list)})')\n",
    "    print(f'   - Supervised learning: {np.mean(acc_super_list):.2f} (max={max(acc_super_list)})')\n",
    "    print(f' - Elapsed time: {timedelta(seconds=(np.sum(elapsed_list)))}')\n",
    "    print(f' - Confusion matrix:')\n",
    "    ConfusionMatrixDisplay.from_estimator(super_model, X_test, y_test, cmap=plt.cm.Blues)\n",
    "    plt.show()"
   ]
  },
  {
   "cell_type": "markdown",
   "id": "baa1be39",
   "metadata": {},
   "source": [
    "# Runs"
   ]
  },
  {
   "cell_type": "code",
   "execution_count": 6,
   "id": "5f3aaaa8",
   "metadata": {},
   "outputs": [
    {
     "name": "stdout",
     "output_type": "stream",
     "text": [
      "\n",
      "# GradientBoostingClassifier() + GradientBoostingClassifier()\n",
      "\n",
      "\n",
      "(len(X_initial), len(X_train), len(X_test)) = (20, 120, 40)\n",
      "\n",
      "(data encoded before active learning)\n",
      "\n",
      " - Avg. accuracy:\n",
      "   - Active learning: 0.53 (max=0.7)\n",
      "   - Supervised learning: 0.47 (max=0.65)\n",
      " - Elapsed time: 0:12:27.184646\n",
      " - Confusion matrix:\n"
     ]
    },
    {
     "data": {
      "image/png": "[encoded data removed]",
      "text/plain": [
       "<Figure size 640x480 with 2 Axes>"
      ]
     },
     "metadata": {},
     "output_type": "display_data"
    }
   ],
   "source": [
    "run_pipeline(GradientBoostingClassifier(), GradientBoostingClassifier(),\n",
    "             X_unlabeled, X_labeled, y_labeled, initial_size=20, test_size=40,\n",
    "             n_queries=100, n_interactions=30,\n",
    "             scale_active_data=False, scale_super_data=False, \n",
    "             encode_beggining=True, encode_ending=False, verbose=False)"
   ]
  },
  {
   "cell_type": "code",
   "execution_count": 7,
   "id": "7000764f",
   "metadata": {},
   "outputs": [
    {
     "name": "stdout",
     "output_type": "stream",
     "text": [
      "\n",
      "# GradientBoostingClassifier() + GradientBoostingClassifier()\n",
      "\n",
      "\n",
      "(len(X_initial), len(X_train), len(X_test)) = (20, 120, 40)\n",
      "\n",
      "(data encoded after active learning)\n",
      "\n",
      " - Avg. accuracy:\n",
      "   - Active learning: 0.74 (max=0.85)\n",
      "   - Supervised learning: 0.53 (max=0.675)\n",
      " - Elapsed time: 0:16:49.236006\n",
      " - Confusion matrix:\n"
     ]
    },
    {
     "data": {
      "image/png": "[encoded data removed]",
      "text/plain": [
       "<Figure size 640x480 with 2 Axes>"
      ]
     },
     "metadata": {},
     "output_type": "display_data"
    }
   ],
   "source": [
    "run_pipeline(GradientBoostingClassifier(), GradientBoostingClassifier(),\n",
    "             X_unlabeled, X_labeled, y_labeled, initial_size=20, test_size=40,\n",
    "             n_queries=100, n_interactions=30,\n",
    "             scale_active_data=False, scale_super_data=False, \n",
    "             encode_beggining=False, encode_ending=True, verbose=False)"
   ]
  }
 ],
 "metadata": {
  "kernelspec": {
   "display_name": "Python 3 (ipykernel)",
   "language": "python",
   "name": "python3"
  },
  "language_info": {
   "codemirror_mode": {
    "name": "ipython",
    "version": 3
   },
   "file_extension": ".py",
   "mimetype": "text/x-python",
   "name": "python",
   "nbconvert_exporter": "python",
   "pygments_lexer": "ipython3",
   "version": "3.8.10"
  }
 },
 "nbformat": 4,
 "nbformat_minor": 5
}
