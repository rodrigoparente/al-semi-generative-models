{
 "cells": [
  {
   "cell_type": "markdown",
   "id": "b824178f",
   "metadata": {},
   "source": [
    "# Imports"
   ]
  },
  {
   "cell_type": "code",
   "execution_count": 1,
   "id": "8160de0b",
   "metadata": {},
   "outputs": [],
   "source": [
    "# filtering messages to error\n",
    "import warnings\n",
    "warnings.filterwarnings('ignore')"
   ]
  },
  {
   "cell_type": "code",
   "execution_count": 2,
   "id": "8b3ac3dd",
   "metadata": {},
   "outputs": [],
   "source": [
    "# python imports\n",
    "from timeit import default_timer as timer\n",
    "from time import gmtime, strftime\n",
    "\n",
    "#third-party imports\n",
    "import numpy as np\n",
    "\n",
    "from sklearn.semi_supervised import SelfTrainingClassifier\n",
    "from sklearn.ensemble import GradientBoostingClassifier\n",
    "from sklearn.preprocessing import StandardScaler\n",
    "from sklearn.metrics import ConfusionMatrixDisplay\n",
    "\n",
    "from matplotlib import pyplot as plt\n",
    "%matplotlib inline\n",
    "\n",
    "# project imports\n",
    "from utils.al import active_learn_loop\n",
    "from utils.data import load_data\n",
    "from utils.data import initial_query_test_split"
   ]
  },
  {
   "cell_type": "markdown",
   "id": "675ef286",
   "metadata": {},
   "source": [
    "# Loading Data"
   ]
  },
  {
   "cell_type": "code",
   "execution_count": 3,
   "id": "f7041059",
   "metadata": {},
   "outputs": [],
   "source": [
    "X_unlabeled, _ = load_data('datasets/vulns-unlabeled.csv')\n",
    "X_labeled, y_labeled = load_data('datasets/vulns-labeled.csv')"
   ]
  },
  {
   "cell_type": "markdown",
   "id": "06e7dd55",
   "metadata": {},
   "source": [
    "# Pipeline"
   ]
  },
  {
   "cell_type": "code",
   "execution_count": 4,
   "id": "f61018c0",
   "metadata": {},
   "outputs": [],
   "source": [
    "def run_pipeline(active_model, super_model, \n",
    "                 X_unlabeled, X, y, initial_size, test_size, \n",
    "                 n_queries, n_interactions, \n",
    "                 scale_active_data, scale_super_data):\n",
    "    \n",
    "    acc_active_list = list()\n",
    "    acc_super_list = list()\n",
    "    elapsed_list = list()\n",
    "\n",
    "    print(f'\\n# {str(active_model)} + {str(super_model)}\\n')\n",
    "\n",
    "    for i in range(n_interactions):\n",
    "\n",
    "        # Splitting data\n",
    "        # --------------\n",
    "\n",
    "        X_initial, X_query, X_test, y_initial, y_query, y_test =\\\n",
    "            initial_query_test_split(X, y, initial_size, test_size)\n",
    "        \n",
    "        # Active learning\n",
    "        # ---------------\n",
    "        \n",
    "        # scaling data if necessary\n",
    "        scaler = None\n",
    "        if scale_active_data:\n",
    "            scaler = StandardScaler().fit(X_query)\n",
    "        \n",
    "            X_initial = scaler.transform(X_initial)\n",
    "            X_query = scaler.transform(X_query)\n",
    "            X_test = scaler.transform(X_test)\n",
    "        \n",
    "        # active learner loop\n",
    "        learner_active, t_active_learn, X_train, y_train =\\\n",
    "            active_learn_loop(active_model, X_initial, y_initial, X_query, y_query, n_queries)\n",
    "        \n",
    "        score = learner_active.score(X_test, y_test)\n",
    "        acc_active_list.append(score)\n",
    "        \n",
    "        # denormalize data if necessary\n",
    "        if scale_active_data:\n",
    "            X_train = scaler.inverse_transform(X_train)\n",
    "            X_test = scaler.inverse_transform(X_test)\n",
    "\n",
    "        # Supervised learning\n",
    "        # ------------------------\n",
    "        \n",
    "        # scalling data if necessary\n",
    "        if scale_super_data:\n",
    "            scaler = StandardScaler().fit(X_train)\n",
    "            \n",
    "            X_train = scaler.transform(X_train)\n",
    "            X_test = scaler.transform(X_test)\n",
    "            \n",
    "        t_semi_learn = timer()\n",
    "\n",
    "        learner_semi = SelfTrainingClassifier(base_estimator=super_model, threshold=0.99)\n",
    "        learner_semi.fit(X_train, y_train)\n",
    "\n",
    "        t_semi_learn = timer() - t_semi_learn\n",
    "        \n",
    "        score = learner_semi.score(X_test, y_test)\n",
    "\n",
    "        acc_super_list.append(score)\n",
    "        \n",
    "        # Calculating elapsed time\n",
    "        # ------------------------\n",
    "        \n",
    "        elapsed = t_active_learn + t_semi_learn\n",
    "        elapsed_list.append(elapsed)\n",
    "\n",
    "    # Printing statistics\n",
    "    # -------------------\n",
    "    \n",
    "    print(f' - Avg. Active learning accuracy: {np.mean(acc_active_list):.2f}')\n",
    "    print(f' - Avg. Semi-supervised learning accuracy: {np.mean(acc_super_list):.2f}\\n')\n",
    "    print(f' - Avg. time: {strftime(\"%H:%M:%S\", gmtime(np.mean(elapsed_list)))}\\n')\n",
    "    print(f' - Confusion matrix:')\n",
    "    ConfusionMatrixDisplay.from_estimator(learner_semi, X_test, y_test, cmap=plt.cm.Blues)\n",
    "    plt.show()"
   ]
  },
  {
   "cell_type": "markdown",
   "id": "baa1be39",
   "metadata": {},
   "source": [
    "# Runs"
   ]
  },
  {
   "cell_type": "code",
   "execution_count": 5,
   "id": "ed946867",
   "metadata": {},
   "outputs": [
    {
     "name": "stdout",
     "output_type": "stream",
     "text": [
      "\n",
      "# GradientBoostingClassifier() + GradientBoostingClassifier()\n",
      "\n",
      " - Avg. Active learning accuracy: 0.72\n",
      " - Avg. Semi-supervised learning accuracy: 0.65\n",
      "\n",
      " - Avg. time: 00:00:15\n",
      "\n",
      " - Confusion matrix:\n"
     ]
    },
    {
     "data": {
      "image/png": "[encoded data removed]",
      "text/plain": [
       "<Figure size 640x480 with 2 Axes>"
      ]
     },
     "metadata": {},
     "output_type": "display_data"
    }
   ],
   "source": [
    "run_pipeline(GradientBoostingClassifier(), GradientBoostingClassifier(),\n",
    "             X_unlabeled, X_labeled, y_labeled, initial_size=20, test_size=40,\n",
    "             n_queries=80, n_interactions=1,\n",
    "             scale_active_data=False, scale_super_data=False)"
   ]
  }
 ],
 "metadata": {
  "kernelspec": {
   "display_name": "Python 3 (ipykernel)",
   "language": "python",
   "name": "python3"
  },
  "language_info": {
   "codemirror_mode": {
    "name": "ipython",
    "version": 3
   },
   "file_extension": ".py",
   "mimetype": "text/x-python",
   "name": "python",
   "nbconvert_exporter": "python",
   "pygments_lexer": "ipython3",
   "version": "3.8.10"
  }
 },
 "nbformat": 4,
 "nbformat_minor": 5
}
