{
 "cells": [
  {
   "cell_type": "markdown",
   "id": "b824178f",
   "metadata": {},
   "source": [
    "# Imports"
   ]
  },
  {
   "cell_type": "code",
   "execution_count": 1,
   "id": "bada82fe-b820-499b-8b7c-0d31f4fa68e1",
   "metadata": {},
   "outputs": [],
   "source": [
    "# filtering messages to error\n",
    "import warnings\n",
    "import os\n",
    "\n",
    "warnings.filterwarnings('ignore')\n",
    "os.environ['TF_CPP_MIN_LOG_LEVEL'] = '3'"
   ]
  },
  {
   "cell_type": "code",
   "execution_count": 2,
   "id": "8b3ac3dd",
   "metadata": {},
   "outputs": [],
   "source": [
    "# python imports\n",
    "from itertools import cycle\n",
    "\n",
    "# third-party imports\n",
    "import numpy as np\n",
    "\n",
    "from sklearn.model_selection import train_test_split\n",
    "from sklearn.ensemble import GradientBoostingClassifier\n",
    "from sklearn.utils import shuffle\n",
    "from sklearn.metrics import confusion_matrix\n",
    "from sklearn.metrics import ConfusionMatrixDisplay\n",
    "from sklearn.preprocessing import StandardScaler\n",
    "\n",
    "import torch\n",
    "\n",
    "import torch.nn as nn\n",
    "from torch.autograd import Variable\n",
    "\n",
    "from modAL.models import ActiveLearner\n",
    "from modAL.uncertainty import uncertainty_sampling\n",
    "\n",
    "from matplotlib import pyplot as plt\n",
    "%matplotlib inline\n",
    "\n",
    "# project imports\n",
    "from inference import SVI\n",
    "from inference import DeterministicWarmup\n",
    "from models import AuxiliaryDeepGenerativeModel\n",
    "\n",
    "from utils.math import mse_loss\n",
    "from utils.data import load_data\n",
    "from utils.data import get_initial_sample\n",
    "from utils.data import get_labeled_and_unlabeled_data"
   ]
  },
  {
   "cell_type": "markdown",
   "id": "675ef286",
   "metadata": {},
   "source": [
    "# Loading Data"
   ]
  },
  {
   "cell_type": "code",
   "execution_count": 3,
   "id": "b72105b3",
   "metadata": {},
   "outputs": [],
   "source": [
    "X_unlabeled, _ = load_data('datasets/vulns-unlabeled.csv')\n",
    "X_labeled, y_labeled = load_data('datasets/vulns-labeled.csv')"
   ]
  },
  {
   "cell_type": "markdown",
   "id": "d54a8716",
   "metadata": {},
   "source": [
    "# Pipeline"
   ]
  },
  {
   "cell_type": "code",
   "execution_count": 4,
   "id": "ed36037c",
   "metadata": {},
   "outputs": [],
   "source": [
    "def run_pipeline(classifier, X_unlabeled, X, y,\n",
    "                 n_queries, initial_size, test_size,\n",
    "                 epochs=500, verbose=False):\n",
    "    \n",
    "    X_pool, X_test, y_pool, y_test = train_test_split(X, y, test_size=test_size)\n",
    "\n",
    "    # choosing randomly n elements from the dataset\n",
    "    initial_idx = get_initial_sample(y_pool, initial_size)\n",
    "\n",
    "    # selecting elements and removing then from the training dataset\n",
    "    X_initial, y_initial = X_pool[initial_idx], y_pool[initial_idx]\n",
    "    X_pool, y_pool = np.delete(X_pool, initial_idx, axis=0), np.delete(y_pool, initial_idx, axis=0)\n",
    "\n",
    "    X_initial, y_initial = shuffle(X_initial, y_initial)\n",
    "    X_pool, y_pool = shuffle(X_pool, y_pool)\n",
    "    X_test, y_test = shuffle(X_test, y_test)\n",
    "\n",
    "    # active learning\n",
    "    \n",
    "    learner = ActiveLearner(\n",
    "        estimator=classifier, query_strategy=uncertainty_sampling, \n",
    "        X_training=X_initial, y_training=y_initial)\n",
    "\n",
    "    # initializing labeled arrays\n",
    "    X_labeled = np.zeros((n_queries, X_pool.shape[1]), dtype=int)\n",
    "    y_labeled = np.zeros(n_queries, dtype=int)\n",
    "\n",
    "    for i in range(n_queries):\n",
    "        # value selected to be learn\n",
    "        query_idx, query_inst = learner.query(X_pool)\n",
    "\n",
    "        # saving labeled data by the specialists        \n",
    "        X_labeled[i, ] = query_inst\n",
    "        y_labeled[i] = y_pool[query_idx][0]\n",
    "\n",
    "        # retraining\n",
    "        learner.teach(query_inst.reshape(1, -1), y_pool[query_idx])\n",
    "\n",
    "        # remove labeled value from the pool\n",
    "        X_pool, y_pool = np.delete(X_pool, query_idx, axis=0), np.delete(y_pool, query_idx, axis=0)\n",
    "        \n",
    "    score_active = learner.score(X_test, y_test)\n",
    "\n",
    "    # append entries labeled by specialists to X_initial\n",
    "    X_train_labeled = np.append(X_initial, X_labeled, axis=0)\n",
    "    y_train_labeled = np.append(y_initial, y_labeled)\n",
    "\n",
    "    # shuffling data\n",
    "    X_train_labeled, y_train_labeled = shuffle(X_train_labeled, y_train_labeled)\n",
    "    \n",
    "    # scaling\n",
    "    scaler = StandardScaler().fit(X_unlabeled)\n",
    "    X_unlabeled = scaler.transform(X_unlabeled)\n",
    "    X_train_labeled = scaler.transform(X_train_labeled)    \n",
    "    X_test = scaler.transform(X_test)\n",
    "    \n",
    "    # adgm network\n",
    "    \n",
    "    labeled, unlabeled, validation =\\\n",
    "        get_labeled_and_unlabeled_data(X_unlabeled, X_train_labeled, y_train_labeled, 64)\n",
    "    \n",
    "    alpha = 0.1 * (len(unlabeled) + len(labeled)) / len(labeled)\n",
    "    \n",
    "    input_dim = X_train_labeled.shape[1]\n",
    "    label_dim = np.unique(y_train_labeled).shape[0]\n",
    "    hidden_dim = [128, 64]\n",
    "    latent_dim = 16\n",
    "\n",
    "    model = AuxiliaryDeepGenerativeModel([input_dim, label_dim, latent_dim, latent_dim, hidden_dim])\n",
    "    model.decoder.output_activation = nn.Identity()\n",
    "    model.classifier = nn.Sequential(\n",
    "        nn.Linear(input_dim + latent_dim, 128),\n",
    "        nn.ReLU(),\n",
    "        nn.Linear(128, 64),\n",
    "        nn.ReLU(),\n",
    "        nn.Linear(64, label_dim),\n",
    "        nn.Softmax()\n",
    "    )\n",
    "\n",
    "    optimizer = torch.optim.Adam(model.parameters(), lr=3e-4, betas=(0.9, 0.999))\n",
    "\n",
    "    if torch.cuda.is_available(): \n",
    "        model = model.cuda()\n",
    "\n",
    "    elbo = SVI(model, likelihood=mse_loss, beta=DeterministicWarmup(n=200))\n",
    "\n",
    "    elbo_adgm_list = []\n",
    "    for epoch in range(epochs):\n",
    "        model.train()\n",
    "        total_loss, accuracy = (0, 0)\n",
    "        for (x, y), (u, _) in zip(cycle(labeled), unlabeled):\n",
    "            # Wrap in variables\n",
    "            x, y, u = Variable(x), Variable(y), Variable(u)\n",
    "\n",
    "            if torch.cuda.is_available():\n",
    "                # They need to be on the same device and be synchronized.\n",
    "                x, y = x.cuda(device=0), y.cuda(device=0)\n",
    "                u = u.cuda(device=0)\n",
    "\n",
    "            L = -elbo(x, y)\n",
    "            U = -elbo(u)\n",
    "\n",
    "            # Add auxiliary classification loss q(y|x)\n",
    "            logits = model.classify(x)\n",
    "\n",
    "            # Regular cross entropy\n",
    "            classication_loss = torch.sum(y * torch.log(logits + 1e-8), dim=1).mean()\n",
    "\n",
    "            J_alpha = L - alpha * classication_loss + U\n",
    "\n",
    "            J_alpha.backward()\n",
    "            optimizer.step()\n",
    "            optimizer.zero_grad()\n",
    "\n",
    "            total_loss += J_alpha.data\n",
    "            accuracy += torch.mean((torch.max(logits, 1)[1].data == torch.max(y, 1)[1].data).float())\n",
    "\n",
    "        m = len(unlabeled)\n",
    "        elbo_adgm_list.append((total_loss / m).tolist())\n",
    "        \n",
    "        if verbose:\n",
    "            print(f\"[Epoch: {epoch}]\\t J_a: {total_loss / m:.2f}, accuracy: {accuracy / m:.2f}\")\n",
    "    \n",
    "    X_test_tensor = torch.Tensor(X_test)\n",
    "    y_test_tensor = torch.Tensor(y_test)\n",
    "    \n",
    "    if torch.cuda.is_available():\n",
    "        X_test_tensor = torch.Tensor(X_test).cuda(device=0)\n",
    "        y_test_tensor = torch.Tensor(y_test).cuda(device=0)\n",
    "    \n",
    "    model.eval()\n",
    "    logits = model.classify(X_test_tensor)\n",
    "    y_pred = torch.max(logits, 1)[1].data\n",
    "\n",
    "    score_adgm = torch.mean((y_pred == y_test_tensor).float()).tolist()\n",
    "    cm_adgm = confusion_matrix(y_test, y_pred.tolist())\n",
    "    \n",
    "    return score_active, score_adgm, elbo_adgm_list, cm_adgm"
   ]
  },
  {
   "cell_type": "markdown",
   "id": "cdb1ff32-4903-4841-ba47-e0052b09c679",
   "metadata": {},
   "source": [
    "# Execution"
   ]
  },
  {
   "cell_type": "code",
   "execution_count": 5,
   "id": "685086ad-ceaa-43c0-9847-9ffc24970b33",
   "metadata": {},
   "outputs": [],
   "source": [
    "acc_active_list = list()\n",
    "acc_adgm_list = list()"
   ]
  },
  {
   "cell_type": "code",
   "execution_count": 6,
   "id": "f6a769fe",
   "metadata": {},
   "outputs": [],
   "source": [
    "elbo_list = None\n",
    "cm_adgm = None"
   ]
  },
  {
   "cell_type": "code",
   "execution_count": 7,
   "id": "e3b83c7c",
   "metadata": {},
   "outputs": [
    {
     "name": "stdout",
     "output_type": "stream",
     "text": [
      "End of interaction #05.\n",
      "End of interaction #10.\n",
      "End of interaction #15.\n",
      "End of interaction #20.\n",
      "End of interaction #25.\n"
     ]
    }
   ],
   "source": [
    "for i in range(30):\n",
    "    acc_active, acc_adgm, elbo_list, cm_adgm =\\\n",
    "        run_pipeline(GradientBoostingClassifier(), X_unlabeled, X_labeled, y_labeled, \n",
    "                     n_queries=100, initial_size=20, test_size=40)\n",
    "    \n",
    "    acc_active_list.append(acc_active)\n",
    "    acc_adgm_list.append(acc_adgm)\n",
    "    \n",
    "    if i % 5 == 0 and i != 0:\n",
    "        print(f'End of interaction #{i:02d}.')"
   ]
  },
  {
   "cell_type": "code",
   "execution_count": 8,
   "id": "c6da9a9c",
   "metadata": {},
   "outputs": [
    {
     "data": {
      "image/png": "[encoded data removed]",
      "text/plain": [
       "<Figure size 640x480 with 1 Axes>"
      ]
     },
     "metadata": {},
     "output_type": "display_data"
    }
   ],
   "source": [
    "plt.figure()\n",
    "plt.plot(elbo_list)\n",
    "plt.xlabel(\"Epochs\")\n",
    "plt.ylabel(\"Loss\")\n",
    "plt.title(\"ADGM training\")\n",
    "plt.show()"
   ]
  },
  {
   "cell_type": "code",
   "execution_count": 9,
   "id": "24a5b5df",
   "metadata": {},
   "outputs": [
    {
     "name": "stdout",
     "output_type": "stream",
     "text": [
      "# Avg. acc:\n",
      " - active: 0.72\n",
      " - ladder: 0.59\n"
     ]
    }
   ],
   "source": [
    "print(f'# Avg. acc:')\n",
    "print(f' - active: {np.mean(acc_active_list):.2f}')\n",
    "print(f' - ladder: {np.mean(acc_adgm_list):.2f}')"
   ]
  },
  {
   "cell_type": "code",
   "execution_count": 10,
   "id": "ba9930ab",
   "metadata": {},
   "outputs": [
    {
     "data": {
      "image/png": "[encoded data removed]",
      "text/plain": [
       "<Figure size 640x480 with 2 Axes>"
      ]
     },
     "metadata": {},
     "output_type": "display_data"
    }
   ],
   "source": [
    "ConfusionMatrixDisplay(cm_adgm).plot()\n",
    "plt.show()"
   ]
  }
 ],
 "metadata": {
  "kernelspec": {
   "display_name": "Python 3 (ipykernel)",
   "language": "python",
   "name": "python3"
  },
  "language_info": {
   "codemirror_mode": {
    "name": "ipython",
    "version": 3
   },
   "file_extension": ".py",
   "mimetype": "text/x-python",
   "name": "python",
   "nbconvert_exporter": "python",
   "pygments_lexer": "ipython3",
   "version": "3.8.10"
  }
 },
 "nbformat": 4,
 "nbformat_minor": 5
}
